{
 "cells": [
  {
   "cell_type": "markdown",
   "metadata": {},
   "source": [
    "## Assignment 1: Working on the command line\n",
    "\n",
    "#### Introduction to Unix"
   ]
  },
  {
   "cell_type": "markdown",
   "metadata": {},
   "source": [
    "Question 3 \n",
    "\n",
    "* ls command in terminal is used to list contents in the directoy \n",
    "* ls -l is used to display all the files in long format. In long format all the information regarding of the file sizes, owner, modification are displayed.\n",
    "* In order to remove files from the directory I would use th command rm -r to delete all file recursively."
   ]
  },
  {
   "cell_type": "markdown",
   "metadata": {},
   "source": [
    "Question 4\n",
    "\n",
    "I first downloaded the files from given link and starting manipulating it with diffrent commands\n",
    "\n",
    "1 Using the following command, I found seven column in the files provided\n",
    "\n",
    "```awk\n",
    "awk -F '\\t' '{print NF}' gpcr.tab |head\n",
    "```\n",
    "\n",
    "2 The following line of single command we found total lines in files 29305\n",
    "\n",
    "```awk\n",
    "wc -l gpcr.tab\n",
    "```\n",
    "\n",
    "3 With the combination of grep and wc, we found 2244 human proteins.\n",
    "\n",
    "```sh\n",
    "grep -w \"Homo sapiens (Human)\" gpcr.tab| wc -l\n",
    "```\n",
    "\n",
    "4 The shortest sequence has length 10. I used the following command\n",
    "\n",
    "```sh\n",
    "cut -d$'\\t' -f7 |sort -n |head\n",
    "\n",
    "```\n",
    "\n",
    "5 There are 3493 species in gpcr.tab file\n",
    "\n",
    "```sh\n",
    "cat  gpcr.tab | cut -d$'\\t' -f6 |sort |uniq| wc -l\n",
    "\n",
    "```\n"
   ]
  },
  {
   "cell_type": "markdown",
   "metadata": {},
   "source": [
    "Question 5\n",
    "\n",
    "\n",
    " ```sh\n",
    "#! /bin/bash -l                                                            ## Before running the command install the necessary software or for this purpose module in uppmax                                                                                                                          \n",
    "input=/Users/salendrapradh/Desktop/KTH courses/Medbio/Applied Bioinformatics/yeast_genes\n",
    "## path to the directory where the files are available                                                                                        \n",
    "cd ${input}\n",
    "## change to the given directory                                                                                                                     \n",
    "## loop out in each fasta file the muscle command as shown in http://www.drive5.com/muscle/muscle.html                                                                                                             \n",
    "for f in *.fasta; do\n",
    "        echo \"$f\"\n",
    "        ## outputting the files that are processed                         \n",
    "        muscle -in $f -out $f\".aligned\"\n",
    "        echo \"$f alignment done\"\n",
    "done\n",
    "\n",
    "```\n",
    "\n"
   ]
  },
  {
   "cell_type": "markdown",
   "metadata": {},
   "source": [
    "## Assignment 2 : Python programming\n"
   ]
  },
  {
   "cell_type": "markdown",
   "metadata": {},
   "source": [
    "#### Generate random sequences"
   ]
  },
  {
   "cell_type": "code",
   "execution_count": 1,
   "metadata": {},
   "outputs": [
    {
     "name": "stdout",
     "output_type": "stream",
     "text": [
      "Length of DNA string: 25\n",
      "\n",
      "\n",
      ">myrandomsequence\n",
      "ACCCCACAGATTATTAGTGTCTATA\n"
     ]
    }
   ],
   "source": [
    "%run -i random_DNA.py"
   ]
  },
  {
   "cell_type": "markdown",
   "metadata": {},
   "source": [
    "#### Reading FastQ files"
   ]
  },
  {
   "cell_type": "code",
   "execution_count": 8,
   "metadata": {},
   "outputs": [
    {
     "name": "stdout",
     "output_type": "stream",
     "text": [
      "2\n",
      "@blaha001\n",
      "@blaha002\n"
     ]
    }
   ],
   "source": [
    " %run -i readfastq.py"
   ]
  },
  {
   "cell_type": "markdown",
   "metadata": {},
   "source": [
    "#### Translate coding DNA\n",
    "\n",
    "##### Testing with given dataset"
   ]
  },
  {
   "cell_type": "code",
   "execution_count": 6,
   "metadata": {},
   "outputs": [
    {
     "name": "stdout",
     "output_type": "stream",
     "text": [
      ">single_stop_codon\n",
      "L\n",
      ">stopcodons\n",
      "SLLSLLSLLSLLSLLSLLSLLSLLSLL\n",
      ">ambiguities\n",
      "XXXXXXXXXXXXXXXXXX\n",
      ">proteinalphabet\n",
      "ARNDCQEGHILKMFPSTWYV\n",
      ">proteinalphabet2\n",
      "ARNDCQEGHILKMFPSTWYV\n",
      ">proteinalphabet3\n",
      "ARNDCQEGHILKMFPSTWYV\n",
      ">tooshort\n",
      "\n",
      ">short\n",
      "LLL\n"
     ]
    }
   ],
   "source": [
    "%run -i seqread.py ../data/testdata/translationtest.dna "
   ]
  },
  {
   "cell_type": "markdown",
   "metadata": {},
   "source": [
    "In the above code; I tried the following idea to get the script working\n",
    "\n",
    "* The intial idea was able to read the file that were given to us in fasta format. However I wanted the code to be run such that user can give file path. I adapted the code course\n",
    "\n",
    "* Following that there were few important tastks that were needed to be done before it ran the whole script. I wanted to run it as function rather than running it everytime. Hence I made a function such as reverse and transcript to run it.\n",
    "\n",
    "* I called the function in the earlier read files and reversetranscrined the whole fasta sequence\n",
    "\n",
    "* Additionally we wanted to translate the reversetranscribed DNA into amino acid codon sequnce. For this I made additional function called as tranlation which can take a DNA sequence and convert to amino acid codons.\n",
    "\n",
    "* In the final part of the scipt, we compared sense and antisense DNA sequence from amino acid seqnece and only outputted the longest amino acid sequence.\n",
    "\n"
   ]
  },
  {
   "cell_type": "markdown",
   "metadata": {},
   "source": [
    "#### Testing with the given question"
   ]
  },
  {
   "cell_type": "code",
   "execution_count": 14,
   "metadata": {},
   "outputs": [
    {
     "name": "stdout",
     "output_type": "stream",
     "text": [
      ">where_is_the_exon\n",
      "INSIPKLFLTVLLSCLPLGWSGRIVETEEMAEGTGGVGTRCWLCCILKATSASLGVACGGQATQLDVASSVLRMEQRQVRSFLWLLQQNQPMTRGFGCHCPPSSQK\n"
     ]
    }
   ],
   "source": [
    "%run -i seqread.py ../data/testdata/an_exon.fa"
   ]
  }
 ],
 "metadata": {
  "anaconda-cloud": {},
  "kernelspec": {
   "display_name": "Python [Root]",
   "language": "python",
   "name": "Python [Root]"
  },
  "language_info": {
   "codemirror_mode": {
    "name": "ipython",
    "version": 2
   },
   "file_extension": ".py",
   "mimetype": "text/x-python",
   "name": "python",
   "nbconvert_exporter": "python",
   "pygments_lexer": "ipython2",
   "version": "2.7.13"
  }
 },
 "nbformat": 4,
 "nbformat_minor": 1
}
