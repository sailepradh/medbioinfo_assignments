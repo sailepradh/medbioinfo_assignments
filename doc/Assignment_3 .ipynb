{
 "cells": [
  {
   "cell_type": "markdown",
   "metadata": {},
   "source": [
    "## Assignment 3.1\n",
    "\n",
    "### Read papers 1–5 and write a reflection, on perhaps two pages, answering the following questions:\n",
    "\n",
    "#### What are these authors in agreement on? For each paper, what does it contribute relative to the other papers?"
   ]
  },
  {
   "cell_type": "markdown",
   "metadata": {},
   "source": [
    "The course provided us with few fundamental papers which gave me  detailed idea about how to get a reproducible computational research done at optimized level. Although the papers had differently application and theme I found the basic idea more or less similar. The main focus of all the papers were dealt on how to carry out reproducible research. The major  focus was on reproducibility and repeatability  of work for others and most of time to you. As we are working on data it is essential for us to reproduce the results for better analysis not even at present time but in future as well. \n",
    " \n",
    "Then of course the question arises how to do the reproducible research in data analysis setting. All the paper more or less gives in detail idea about the organizational structure of project. As in paper 1  [(Noble, 2009)](http://journals.plos.org/ploscompbiol/article?id=10.1371/journal.pcbi.1000424), the authors provided a detailed guide of organization of these projects. The basic organization consist of a project folder where there are all the files and source-codes so that it is easier, logical and wiser to access and run.  \n",
    " \n",
    "Following structure the each paper talks about the proper scripting scheme. For example , it is in core principle all the paper advised to code so as to make others (as well as you) understand what the codes are doing with proper documentation. Additionally author advises to use breaking of long codes into smaller chunks of functional codes for easy understandability.  Furthermore, all the paper suggested to use version controlling while developing a program (ex : github, subversion). This helps in tracking the software development as well as collaborative work within the group members. Additionally, the authors emphasized on error handling from codes. It is utmost necessary to detect errors either giving bogus parameters or inputs into test sets.  Additionally whenever the error occurs we have to print error messages and stop running it. These automatically helps in error handling \n",
    " \n",
    "Besides, these authors were having some pointers on maintaining lab notebooks and experiments for future reference. Similar to wet-lab personnel lab notebooks , it is essential for computational analysis to have complete day to day notebook where we test, document and analyses our results. Additionally, It is also imperative to avoid any manual work and all the repeated stuffs should be programmatic worked out. I have been using and experimenting with Jupyter notebook which I think is pretty good. I would like to continue with it. \n",
    " \n",
    "Although the papers were focusing on these major point, I found few features I thought was specific with all the papers which helped in getting a proper workflow with reproducible computational research. As in first paper  [(Noble, 2009)](http://journals.plos.org/ploscompbiol/article?id=10.1371/journal.pcbi.1000424) the author have provided systematic recipe for of a standardized organizational method which was maintainable. The basic organization consist of a project folder where there are all the files and source-codes so that it is easier, logical and wiser to access and run.  Additionally these folder could have subfolder which have specific objectives. Data → storing fixed data sets; Result →  computational experiments for tracking results; Doc → Directories and subdirectories for manuscript; Src → source code; Bin → Compiled list of binaries or script. In the paper 2 [(Sandve et al., 2013)](http://journals.plos.org/ploscompbiol/article?id=10.1371/journal.pcbi.1003285) , it had a clear idea of reproducible research. Good reproducibility research can be time saver besides helping in authenticity of results and method used. However there needs to trade off between ideal reproducibility and viable research. Routinely and practically reuse all the codes for analysis which can be trusted to used by others. Although it provided ten stepped rule for reproducibility the major focus was the process of data analysis following the rules was essential for reproducibility. I like this paper as it was do and don’t in a cookbook style format. In next paper [(Loman and Watson, 2013)](http://www.cbcb.umd.edu/~sridhar/Docs/Loman-CompBiol.pdf) the authors advice on things to do for researcher starting with computational biology project. One thing that I got from the paper how important is to understand the proper use of computational tools are. Every piece of standardized code/software is optimized for specific problems so as user we are supposed to understand and use aptly. Also, pipelines are fantastic to work with as with simple click you get the desirable results. However it has to taken into consideration for small problems you might not even not need pipelines and understand when it is necessary.\n",
    " \n",
    "Further dealing into the  guiding rules for using and developing softwares was made in paper 4 [(Wilson et al., 2014)](http://journals.plos.org/plosbiology/article?id=10.1371/journal.pbio.1001745), . New point that was introduced was working incremental changes in building softwares with constant feedback and changes for longer time. Additionally while working with scripts make use of breaking chunks into smaller pieces so that they can be helpful to future users and self in that scenario . This fits into modularize the codes for not repeating same stuffs again and again and refactor codes for better structure. In final paper [(Prlić and Procter, 2012)](http://journals.plos.org/ploscompbiol/article?id=10.1371/journal.pcbi.1002802) the author has been focused in open source software development as these softwares are highly cited and used ones in scientific research.One interesting point I found here was , it was ok to publicly open your so-so working codes to community so that others can comment and work together on it. This would be fruitful to you as they would help out in improving your programs. Finally, If we follow the best practises of computational reproducible which was discussed in earlier papers, it would be easier to collaborate on open source software development \n",
    " \n",
    "On the side note, I was just thinking how could I implement the ideas suggested in papers to real project in UPPMAX. For example at some point last year I had problem with setting up git for uppmax.\n"
   ]
  },
  {
   "cell_type": "markdown",
   "metadata": {},
   "source": [
    "## Assignment 3.2\n",
    "\n",
    "### Read paper 6 and consider a famous Bioinformatics software of your choice. How does it measure up to the recommendations? One to two pages is expected\n",
    "\n",
    "#### You can pick your favourite Bioinformatics software, or you can choose one of the following famous and well-used softwares:"
   ]
  },
  {
   "cell_type": "markdown",
   "metadata": {},
   "source": [
    "Actually for this assignment I chose BWA as the command line software and checked whether the recommendation made by the author of the paper [(Seemann 2013)](https://gigascience.biomedcentral.com/articles/10.1186/2047-217X-2-15). \n",
    " \n",
    "#### Recommendation test report:\n",
    " \n",
    "BWA  did follow up the recommendation 1 as when I ran bwa without any input it resulted in help text indicating how to use the bwa software. Additionally,  it also gave me information regarding the version bwa  which fulfilled the recommendation of version switch. . Additionally it also promptly indicated the manual page of the bwa documentation.  Thus it kind of fulfilled the second recommendation but not as indicated in the paper. The paper had specifically instructed to used --h for help . I think the plausible explanation for not defining -v and -h switch for version and switch was these parameters had other specific functions within the program. Anyways the program had proper documentation for user and indicated upfront the version that was installed in .\n",
    " \n",
    "BWA was matching stdout message and error output. As shown in the github (https://github.com/lh3/bwa), for example\n",
    "\n",
    "```sh\n",
    "./bwa mem ref.fa read-se.fq.gz | gzip -3 > aln-se.sam.gz\n",
    "```\n",
    "The output from program was able to zipped to get a zipped output files.\n",
    "\n",
    "Furthermore, in order to explore more the I made a dummy data set called ‘test.txt’ and explored whether how it would throw error if I gave a wrong format into it. \n",
    " \n",
    " ```sh\n",
    "./bwa mem test.txt \n",
    " \n",
    "Usage: bwa mem [options] <idxbase> <in1.fq> [in2.fq]\n",
    "\n",
    "...\n",
    "```\n",
    "\n",
    "Following this I wanted to test the unix process for above command\n",
    "\n",
    "```sh\n",
    "echo $?\n",
    "1\n",
    "```\n",
    "\n",
    "The program didn't recognized the text files. However, it didn’t explicit indicated it was error but it didn’t run the command and directed towards the documentation in order to point towards right usage of the tools.\n",
    " \n",
    " \n",
    "Regarding the recommendation 8 which indicated not to pollute the path, I had to do some digging into the folder and\n",
    "It  follows the recommendation \"prefix all your sub-tools and helper scripts with the name biotool\" : as Actually for this I had to download Bwa, install it ans see the files in bwa folder. All the secondary scripts in the BWA tool was prefixed with BWA.XX\n",
    "\n",
    "Finally, I found from github that it has clearly indicated that it was had dependencies on zlib but not quite sure whether it checks these depencdies before runnning it. \n",
    "\n"
   ]
  }
 ],
 "metadata": {
  "kernelspec": {
   "display_name": "Python [pycourse]",
   "language": "python",
   "name": "Python [pycourse]"
  },
  "language_info": {
   "codemirror_mode": {
    "name": "ipython",
    "version": 3.0
   },
   "file_extension": ".py",
   "mimetype": "text/x-python",
   "name": "python",
   "nbconvert_exporter": "python",
   "pygments_lexer": "ipython3",
   "version": "3.5.2"
  }
 },
 "nbformat": 4,
 "nbformat_minor": 1
}